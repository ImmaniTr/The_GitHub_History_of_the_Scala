{
  "nbformat": 4,
  "nbformat_minor": 0,
  "metadata": {
    "colab": {
      "provenance": []
    },
    "kernelspec": {
      "name": "python3",
      "display_name": "Python 3"
    },
    "language_info": {
      "name": "python"
    }
  },
  "cells": [
    {
      "cell_type": "markdown",
      "source": [
        "**1. Scala's real-world project repository data**\n",
        "\n",
        "Scala is a mature programming language. It is a general-purpose programming language that has recently become another prominent language for data scientists.\n",
        "\n",
        "Scala is also an open source project. Open source projects have the advantage that their entire development histories -- who made changes, what was changed, code reviews, etc. -- are publicly available.\n",
        "\n",
        "We're going to read in, clean up, and visualize the real world project repository of Scala that spans data from a version control system (Git) as well as a project hosting site (GitHub). We will find out who has had the most influence on its development and who are the experts.\n",
        "\n",
        "The dataset we will use, which has been previously mined and extracted from GitHub, is comprised of three files:\n",
        "\n",
        "pulls_2011-2013.csv contains the basic information about the pull requests, and spans from the end of 2011 up to (but not including) 2014.\n",
        "pulls_2014-2018.csv contains identical information, and spans from 2014 up to 2018.\n",
        "pull_files.csv contains the files that were modified by each pull request."
      ],
      "metadata": {
        "id": "CmS0udckaGZC"
      }
    },
    {
      "cell_type": "code",
      "execution_count": null,
      "metadata": {
        "id": "24MuJk9MZkUg"
      },
      "outputs": [],
      "source": [
        "# Importing pandas\n",
        "import pandas as pd\n",
        "\n",
        "# Loading in the data\n",
        "pulls_one = pd.read_csv('pulls_2011-2013.csv')\n",
        "pulls_two = pd.read_csv('pulls_2014-2018.csv')\n",
        "pull_files = pd.read_csv('pull_files.csv')"
      ]
    },
    {
      "cell_type": "markdown",
      "source": [
        "**2. Preparing and cleaning the data**\n",
        "\n",
        "First, we will need to combine the data from the two separate pull DataFrames.\n",
        "\n",
        "Next, the raw data extracted from GitHub contains dates in the ISO8601 format. However, pandas imports them as regular strings. To make our analysis easier, we need to convert the strings into Python's DateTime objects. DateTime objects have the important property that they can be compared and sorted.\n",
        "\n",
        "The pull request times are all in UTC (also known as Coordinated Universal Time). The commit times, however, are in the local time of the author with time zone information (number of hours difference from UTC). To make comparisons easy, we should convert all times to UTC."
      ],
      "metadata": {
        "id": "fHDV0vRReFR1"
      }
    },
    {
      "cell_type": "code",
      "source": [
        "# Joining pulls_one to pulls_two\n",
        "pulls = pd.concat([pulls_one, pulls_two], axis=0)\n",
        "\n",
        "\n",
        "# Converting the date for the pulls object\n",
        "pulls['date'] = pd.to_datetime(pulls['date'], utc=True)"
      ],
      "metadata": {
        "id": "6YYRpXSqhWis"
      },
      "execution_count": null,
      "outputs": []
    },
    {
      "cell_type": "markdown",
      "source": [
        "**3. Merging the DataFrames**\n",
        "\n",
        "The data extracted comes in two separate files. Merging the two DataFrames will make it easier for us to analyze the data in the future tasks."
      ],
      "metadata": {
        "id": "sLRTB8FrBc3v"
      }
    },
    {
      "cell_type": "code",
      "source": [
        "# Merging the two DataFrames\n",
        "data = pulls.merge(pull_files, on='pid')"
      ],
      "metadata": {
        "id": "GvPLsh6hBewy"
      },
      "execution_count": null,
      "outputs": []
    },
    {
      "cell_type": "markdown",
      "source": [
        "**4. Reviewing project activity**\n",
        "\n",
        "The activity in an open source project is not very consistent. Some projects might be active for many years after the initial release, while others can slowly taper out into oblivion. Before committing to contributing to a project, it is important to understand the state of the project.\n",
        "\n",
        "The data used in this project was collected in January of 2018. We are interested in the evolution of the number of contributions up to that date.\n",
        "\n",
        "For Scala, we will do this by plotting a chart of the project's activity. We will calculate the number of pull requests submitted each (calendar) month during the project's lifetime. We will then plot these numbers to see the trend of contributions.\n"
      ],
      "metadata": {
        "id": "tx3n6Nj4BiEm"
      }
    },
    {
      "cell_type": "code",
      "source": [
        "# Required for matplotlib\n",
        "%matplotlib inline\n",
        "\n",
        "# Creating a column that will store the month\n",
        "data['month'] = data['date'].dt.month\n",
        "\n",
        "# Creating a column that will store the year\n",
        "data['year'] = data['date'].dt.year\n",
        "\n",
        "# Grouping by the month and year and count the pull requests\n",
        "counts = data.groupby(['month','year'])['pid'].count()\n",
        "\n",
        "# Ploting the results\n",
        "counts.plot(kind='bar', figsize = (12,4))"
      ],
      "metadata": {
        "colab": {
          "base_uri": "https://localhost:8080/",
          "height": 343
        },
        "id": "1LFLWHkuBhpK",
        "outputId": "24cd7ec7-ff37-4c02-e11b-2bf2dc442708"
      },
      "execution_count": null,
      "outputs": [
        {
          "output_type": "execute_result",
          "data": {
            "text/plain": [
              "<Axes: xlabel='month,year'>"
            ]
          },
          "metadata": {},
          "execution_count": 9
        },
        {
          "output_type": "display_data",
          "data": {
            "text/plain": [
              "<Figure size 1200x400 with 1 Axes>"
            ],
            "image/png": "[encoded data removed]"
          },
          "metadata": {}
        }
      ]
    },
    {
      "cell_type": "markdown",
      "source": [
        "**5. Evaluating community dynamics**\n",
        "\n",
        "The organizational structure varies from one project to another, and it can influence your success as a contributor. A project that has a very small community might not be the best one to start working on. The small community might indicate a high barrier of entry. This can be caused by several factors, including a community that is reluctant to accept pull requests from \"outsiders,\" that the code base is hard to work with, etc. However, a large community can serve as an indicator that the project is regularly accepting pull requests from new contributors.\n",
        "\n",
        "In order to evaluate the dynamics of the community, we will plot a histogram of the number of pull requests submitted by each user. A distribution that shows that there are few people that only contribute a small number of pull requests can be used as in indicator that the project is not welcoming of new contributors."
      ],
      "metadata": {
        "id": "w6REc35EGfTo"
      }
    },
    {
      "cell_type": "code",
      "source": [
        "# Required for matplotlib\n",
        "%matplotlib inline\n",
        "\n",
        "# Grouping by the submitter\n",
        "by_user = data.groupby('user')['pid'].count()\n",
        "\n",
        "# Ploting the histogram\n",
        "by_user.hist()\n"
      ],
      "metadata": {
        "colab": {
          "base_uri": "https://localhost:8080/",
          "height": 447
        },
        "id": "TA4ZL5kvGfEw",
        "outputId": "482ebdf1-95c4-432a-81f6-ad74b0858f28"
      },
      "execution_count": null,
      "outputs": [
        {
          "output_type": "execute_result",
          "data": {
            "text/plain": [
              "<Axes: >"
            ]
          },
          "metadata": {},
          "execution_count": 10
        },
        {
          "output_type": "display_data",
          "data": {
            "text/plain": [
              "<Figure size 640x480 with 1 Axes>"
            ],
            "image/png": "[encoded data removed]"
          },
          "metadata": {}
        }
      ]
    },
    {
      "cell_type": "markdown",
      "source": [
        "**6. Reviewing changes in the last 10 pull requests**\n",
        "\n",
        "Choosing the right place to make a contribution is as important as choosing the project to contribute to. Some parts of the code might be stable, some might be dead. Contributing there might not have the most impact. Therefore it is important to understand the parts of the system that have been recently changed. This allows us to pinpoint the \"hot\" areas of the code where most of the activity is happening. Focusing on those parts might not the most effective use of our times."
      ],
      "metadata": {
        "id": "0x7sdM7xIFhx"
      }
    },
    {
      "cell_type": "code",
      "source": [
        "# Identifying the last 10 pull requests\n",
        "last_10 = pulls.sort_values(by='date').tail(10)\n",
        "\n",
        "# Joining the two data sets\n",
        "joined_pr = pull_files.merge(last_10, on='pid')\n",
        "\n",
        "# Identifying the unique files\n",
        "files = set(joined_pr['file'])\n",
        "\n",
        "# Printing the results\n",
        "files"
      ],
      "metadata": {
        "colab": {
          "base_uri": "https://localhost:8080/"
        },
        "id": "Oir1RqSiIyMa",
        "outputId": "7aba690c-6687-45fe-c0a3-313fb069d61b"
      },
      "execution_count": null,
      "outputs": [
        {
          "output_type": "execute_result",
          "data": {
            "text/plain": [
              "{'LICENSE',\n",
              " 'doc/LICENSE.md',\n",
              " 'doc/License.rtf',\n",
              " 'project/VersionUtil.scala',\n",
              " 'src/compiler/scala/reflect/reify/phases/Calculate.scala',\n",
              " 'src/compiler/scala/tools/nsc/backend/jvm/BCodeHelpers.scala',\n",
              " 'src/compiler/scala/tools/nsc/backend/jvm/PostProcessor.scala',\n",
              " 'src/compiler/scala/tools/nsc/backend/jvm/analysis/BackendUtils.scala',\n",
              " 'src/compiler/scala/tools/nsc/profile/AsyncHelper.scala',\n",
              " 'src/compiler/scala/tools/nsc/profile/Profiler.scala',\n",
              " 'src/compiler/scala/tools/nsc/symtab/classfile/ClassfileParser.scala',\n",
              " 'src/compiler/scala/tools/nsc/typechecker/Contexts.scala',\n",
              " 'src/library/scala/Predef.scala',\n",
              " 'src/library/scala/concurrent/Lock.scala',\n",
              " 'src/library/scala/util/Properties.scala',\n",
              " 'src/reflect/scala/reflect/internal/pickling/ByteCodecs.scala',\n",
              " 'src/reflect/scala/reflect/internal/tpe/GlbLubs.scala',\n",
              " 'src/scaladoc/scala/tools/nsc/doc/html/page/Entity.scala',\n",
              " 'src/scalap/decoder.properties',\n",
              " 'test/files/neg/leibniz-liskov.check',\n",
              " 'test/files/neg/leibniz-liskov.scala',\n",
              " 'test/files/pos/leibniz-liskov.scala',\n",
              " 'test/files/pos/leibniz_liskov.scala',\n",
              " 'test/files/pos/parallel-classloader.scala',\n",
              " 'test/files/pos/t10568/Converter.java',\n",
              " 'test/files/pos/t10568/Impl.scala',\n",
              " 'test/files/pos/t10686.scala',\n",
              " 'test/files/pos/t5638/Among.java',\n",
              " 'test/files/pos/t5638/Usage.scala',\n",
              " 'test/files/pos/t9291.scala',\n",
              " 'test/files/run/t8348.check',\n",
              " 'test/files/run/t8348/TableColumn.java',\n",
              " 'test/files/run/t8348/TableColumnImpl.java',\n",
              " 'test/files/run/t8348/Test.scala'}"
            ]
          },
          "metadata": {},
          "execution_count": 11
        }
      ]
    },
    {
      "cell_type": "markdown",
      "source": [
        "**7. Identifying the users who made the most pull requests to a given file**\n",
        "\n",
        "When contributing to a project, we might need some guidance. We might find ourselves needing some information regarding the codebase. It is important direct any questions to the right person. Contributors to open source projects generally have other day jobs, so their time is limited. It is important to address our questions to the right people. One way to identify the right target for our inquiries is by using their contribution history.\n",
        "\n",
        "We identified src/compiler/scala/reflect/reify/phases/Calculate.scala as being recently changed. We are interested in the top 3 developers who changed that file. Those developers are the ones most likely to have the best understanding of the code."
      ],
      "metadata": {
        "id": "64pToqXeJYQ4"
      }
    },
    {
      "cell_type": "code",
      "source": [
        "# This is the file we are interested in:\n",
        "file = 'src/compiler/scala/reflect/reify/phases/Calculate.scala'\n",
        "\n",
        "# Identifying the commits that changed the file\n",
        "file_pr = data[data['file']==file]\n",
        "\n",
        "# Counting the number of changes made by each developer\n",
        "author_counts = file_pr.groupby('user')['file'].count().sort_values()\n",
        "\n",
        "# Printing the top 3 developers\n",
        "author_counts.tail(3)"
      ],
      "metadata": {
        "colab": {
          "base_uri": "https://localhost:8080/"
        },
        "id": "-XRX05aSKVhM",
        "outputId": "1440614f-b06e-4ccd-c283-9398364fd76e"
      },
      "execution_count": null,
      "outputs": [
        {
          "output_type": "execute_result",
          "data": {
            "text/plain": [
              "user\n",
              "soc          4\n",
              "retronym     5\n",
              "xeno-by     11\n",
              "Name: file, dtype: int64"
            ]
          },
          "metadata": {},
          "execution_count": 12
        }
      ]
    },
    {
      "cell_type": "markdown",
      "source": [
        "**8. Identifying the users who made the last ten pull requests on a given file**\n",
        "\n",
        "Open source projects suffer from fluctuating membership. This makes the problem of finding the right person more challenging: the person has to be knowledgeable and still be involved in the project. A person that contributed a lot in the past might no longer be available (or willing) to help. To get a better understanding, we need to investigate the more recent history of that particular part of the system.\n",
        "\n",
        "Like in the previous task, we will look at the history of src/compiler/scala/reflect/reify/phases/Calculate.scala."
      ],
      "metadata": {
        "id": "1Msl4QlrKqm8"
      }
    },
    {
      "cell_type": "code",
      "source": [
        "# This is the file we are interested in:\n",
        "file = 'src/compiler/scala/reflect/reify/phases/Calculate.scala'\n",
        "\n",
        "# Selecting the pull requests that changed the target file\n",
        "file_pr = pull_files[pull_files['file']==file]\n",
        "\n",
        "# Merging the obtained results with the pulls DataFrame\n",
        "joined_pr = file_pr.merge(pulls, on='pid')\n",
        "\n",
        "# Finding the users of the last 10 most recent pull requests\n",
        "users_last_10 = set(joined_pr.nlargest(10, 'date')['user'])\n",
        "\n",
        "# Printing the results\n",
        "users_last_10"
      ],
      "metadata": {
        "colab": {
          "base_uri": "https://localhost:8080/"
        },
        "id": "Lj7OKixNiG7C",
        "outputId": "d5b4c79a-2dd4-4443-e380-c7e3e3116e50"
      },
      "execution_count": null,
      "outputs": [
        {
          "output_type": "execute_result",
          "data": {
            "text/plain": [
              "{'bjornregnell', 'retronym', 'soc', 'starblood', 'xeno-by', 'zuvizudar'}"
            ]
          },
          "metadata": {},
          "execution_count": 13
        }
      ]
    },
    {
      "cell_type": "markdown",
      "source": [
        "**9. The pull requests of two special developers**\n",
        "\n",
        "Now that we have identified two potential contacts in the projects, we need to find the person who was most involved in the project in recent times. That person is most likely to answer our questions. For each calendar year, we are interested in understanding the number of pull requests the authors submitted. This will give us a high-level image of their contribution trend to the project."
      ],
      "metadata": {
        "id": "6Dzy94PHii-w"
      }
    },
    {
      "cell_type": "code",
      "source": [
        "# Required for matplotlib\n",
        "%matplotlib inline\n",
        "\n",
        "# The developers we are interested in\n",
        "authors = ['xeno-by', 'soc']\n",
        "\n",
        "# Geting all the developers' pull requests\n",
        "by_author = pulls[pulls['user'].isin(authors)]\n",
        "\n",
        "# Counting the number of pull requests submitted each year\n",
        "counts = by_author.groupby([by_author['user'], by_author['date'].dt.year]).agg({'pid': 'count'}).reset_index()\n",
        "\n",
        "# Converting the table to a wide format\n",
        "counts_wide = counts.pivot_table(index='date', columns='user', values='pid', fill_value=0)\n",
        "\n",
        "# Ploting the results\n",
        "counts_wide.plot(kind='bar')"
      ],
      "metadata": {
        "id": "EBIAKMJ7mDKH"
      },
      "execution_count": null,
      "outputs": []
    },
    {
      "cell_type": "markdown",
      "source": [
        "**10. Visualizing the contributions of each developer**\n",
        "\n",
        "As mentioned before, it is important to make a distinction between the global expertise and contribution levels and the contribution levels at a more granular level (file, submodule, etc.) In our case, we want to see which of our two developers of interest have the most experience with the code in a given file. We will measure experience by the number of pull requests submitted that affect that file and how recent those pull requests were submitted."
      ],
      "metadata": {
        "id": "QM0sDKbdqVdE"
      }
    },
    {
      "cell_type": "code",
      "source": [
        "authors = ['xeno-by', 'soc']\n",
        "file = 'src/compiler/scala/reflect/reify/phases/Calculate.scala'\n",
        "\n",
        "# Merging DataFrames and select the pull requests by the author\n",
        "by_author = data[data['user'].isin(authors)]\n",
        "\n",
        "# Selecting the pull requests that affect the file\n",
        "by_file = by_author[by_author['file'] == file]\n",
        "\n",
        "# Grouping and count the number of PRs done by each user each year\n",
        "grouped = by_file.groupby(['user', by_file['date'].dt.year]).count()['pid'].reset_index()\n",
        "\n",
        "# Transforming the data into a wide format\n",
        "by_file_wide = grouped.pivot_table(index='date', columns='user', values='pid', fill_value=0)\n",
        "\n",
        "# Ploting the results\n",
        "by_file_wide.plot(kind='bar')"
      ],
      "metadata": {
        "id": "bi9Rf_4FqXH3"
      },
      "execution_count": null,
      "outputs": []
    },
    {
      "cell_type": "markdown",
      "source": [
        " **Conclusion**\n",
        "\n",
        "The review of project activity is of great relevance, as analyzing the modified files in the most recent requests provides an updated view of the contributions made by users. This provides valuable information about the areas of opportunity where a contribution is more likely to be relevant, as well as areas that may be of personal interest. Additionally, by analyzing the users involved in the contributions, it is possible to identify individuals who possess knowledge within the project and filtering by file allows for the identification of individuals with specific expertise, where a potential contribution could be made, as support in collaborative platforms like GitHub is typically a characteristic that fosters collaboration among users, and in this case, the advancement of the Scala project."
      ],
      "metadata": {
        "id": "Gwxwklk-iCUS"
      }
    }
  ]
}